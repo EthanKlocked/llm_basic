{
 "cells": [
  {
   "cell_type": "code",
   "execution_count": 21,
   "metadata": {},
   "outputs": [
    {
     "name": "stdout",
     "output_type": "stream",
     "text": [
      "Usage during message addition: Tokens Used: 1505\n",
      "\tPrompt Tokens: 1482\n",
      "\tCompletion Tokens: 23\n",
      "Successful Requests: 3\n",
      "Total Cost (USD): $0.002269\n",
      "{'history': 'On Ethan: Ethan lives in South Korea. Ethan is a software engineer.'}\n"
     ]
    }
   ],
   "source": [
    "from langchain.memory import ConversationSummaryBufferMemory\n",
    "from langchain.chat_models import ChatOpenAI\n",
    "from langchain.callbacks import get_openai_callback\n",
    "from langchain.chains import LLMChain\n",
    "\n",
    "llm = ChatOpenAI(temperature=0.1)\n",
    "\n",
    "memory = ConversationSummaryBufferMemory(\n",
    "    llm=llm,\n",
    "    max_token_limit=80\n",
    ")\n",
    "\n",
    "def add_message(input, output):\n",
    "    memory.save_context({\"input\" : input},{\"output\" : output})\n",
    "\n",
    "with get_openai_callback() as usage:\n",
    "    add_message(\"Hi I'm Ethan, I live in South Korea\", \"Wow that is so cool!\")\n",
    "    add_message(\"I'm a software engineer.\", \"Very interesting to hear that!\")\n",
    "    result = memory.load_memory_variables({\"input\" : \"Who is Ethan?\"})\n",
    "    print(\"Usage during message addition:\", usage)\n",
    "    print(result)\n",
    "\n",
    "\n"
   ]
  }
 ],
 "metadata": {
  "kernelspec": {
   "display_name": "llm",
   "language": "python",
   "name": "python3"
  },
  "language_info": {
   "codemirror_mode": {
    "name": "ipython",
    "version": 3
   },
   "file_extension": ".py",
   "mimetype": "text/x-python",
   "name": "python",
   "nbconvert_exporter": "python",
   "pygments_lexer": "ipython3",
   "version": "3.11.9"
  }
 },
 "nbformat": 4,
 "nbformat_minor": 2
}
