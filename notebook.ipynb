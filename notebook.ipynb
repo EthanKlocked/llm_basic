{
 "cells": [
  {
   "cell_type": "code",
   "execution_count": 10,
   "metadata": {},
   "outputs": [
    {
     "data": {
      "text/plain": [
       "'Human: What do you know about Charizard\\nAI: \\n            Name: Charizard,\\n            Type: Fire/Flying,\\n            Abilities: Blaze, Solar Power,\\n            Description: Charizard is a species of Pokémon known for its dragon-like appearance and ability to fly. It is one of the final forms of Charmander.,\\n            Evolution: Charmander -> Charmeleon -> Charizard,\\n            Appearance: Large wings, fire at the tip of its tail\\n        \\n\\nHuman: What do you know about Mew?'"
      ]
     },
     "execution_count": 10,
     "metadata": {},
     "output_type": "execute_result"
    }
   ],
   "source": [
    "from langchain.chat_models import ChatOpenAI\n",
    "from langchain.prompts.few_shot import FewShotPromptTemplate\n",
    "from langchain.callbacks import StreamingStdOutCallbackHandler\n",
    "from langchain.prompts import PromptTemplate, ChatPromptTemplate\n",
    "from langchain.prompts.example_selector.base import BaseExampleSelector\n",
    "\n",
    "class RandomExampleSelector(BaseExampleSelector):\n",
    "    def __init__(self, examples):\n",
    "        self.examples = examples\n",
    "\n",
    "    def add_example(self, example):\n",
    "        self.examples.append(example)\n",
    "\n",
    "    def select_examples(self, input_variables):\n",
    "        from random import choice\n",
    "        return [choice(self.examples)]\n",
    "\n",
    "chat = ChatOpenAI(\n",
    "    temperature=0.1, \n",
    "    streaming=True,\n",
    "    callbacks=[StreamingStdOutCallbackHandler()]\n",
    ")\n",
    "\n",
    "examples = [\n",
    "    {\n",
    "        \"question\": \"What do you know about Pikachu\",\n",
    "        \"answer\": '''\n",
    "            Name: Pikachu,\n",
    "            Type: Electric,\n",
    "            Abilities: Static, Lightning Rod,\n",
    "            Description: Pikachu is a species of Pokémon, fictional creatures that appear in an assortment of video games, animated television shows and movies, trading card games, and comic books licensed by The Pokémon Company, a Japanese corporation.,\n",
    "            Evolution: Pichu -> Pikachu -> Raichu,\n",
    "            Appearance: Red cheeks that store electricity, long ears with black tips, and a lightning bolt-shaped tail\n",
    "        '''\n",
    "    },\n",
    "    {\n",
    "        \"question\": \"What do you know about Charizard\",\n",
    "        \"answer\": '''\n",
    "            Name: Charizard,\n",
    "            Type: Fire/Flying,\n",
    "            Abilities: Blaze, Solar Power,\n",
    "            Description: Charizard is a species of Pokémon known for its dragon-like appearance and ability to fly. It is one of the final forms of Charmander.,\n",
    "            Evolution: Charmander -> Charmeleon -> Charizard,\n",
    "            Appearance: Large wings, fire at the tip of its tail\n",
    "        '''\n",
    "    },\n",
    "    {\n",
    "        \"question\": \"What do you know about Bulbasaur\",        \n",
    "        \"answer\": '''\n",
    "            Name: Bulbasaur,\n",
    "            Type: Grass/Poison,\n",
    "            Abilities: Overgrow, Chlorophyll,\n",
    "            Description: Bulbasaur is a dual-type Grass/Poison Pokémon known for the plant bulb on its back. It evolves into Ivysaur.,\n",
    "            Evolution: Bulbasaur -> Ivysaur -> Venusaur,\n",
    "            Appearance: Plant bulb on its back, large eyes\n",
    "        '''\n",
    "    }\n",
    "]\n",
    "\n",
    "example_prompt = PromptTemplate.from_template(\"Human: {question}\\nAI: {answer}\")\n",
    "\n",
    "example_selector = RandomExampleSelector(\n",
    "    examples=examples,\n",
    ")\n",
    "\n",
    "final_prompt = FewShotPromptTemplate(\n",
    "    example_prompt=example_prompt,\n",
    "    example_selector=example_selector,\n",
    "    suffix=\"Human: What do you know about {pokemon}?\",\n",
    "    input_variables=[\"pokemon\"]\n",
    ")\n",
    "\n",
    "final_prompt.format(pokemon=\"Mew\")"
   ]
  }
 ],
 "metadata": {
  "kernelspec": {
   "display_name": "llm",
   "language": "python",
   "name": "python3"
  },
  "language_info": {
   "codemirror_mode": {
    "name": "ipython",
    "version": 3
   },
   "file_extension": ".py",
   "mimetype": "text/x-python",
   "name": "python",
   "nbconvert_exporter": "python",
   "pygments_lexer": "ipython3",
   "version": "3.11.9"
  }
 },
 "nbformat": 4,
 "nbformat_minor": 2
}
